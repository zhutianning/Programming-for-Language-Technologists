{
 "cells": [
  {
   "cell_type": "code",
   "execution_count": 1,
   "metadata": {},
   "outputs": [],
   "source": [
    "import numpy as np"
   ]
  },
  {
   "cell_type": "markdown",
   "metadata": {},
   "source": [
    "# 使用一阶多项式模型进行线性回归\n",
    "线性回归是一种基本的统计方法，用于建模两个变量之间的关系。在二维数据中，我们可以使用一阶多项式模型来描述这种关系。该模型的形式为：\n",
    "\\[\\hat{y} = \\theta_0 + \\theta_1 \\cdot x\\]\n",
    "\n",
    "其中：\n",
    "- \\(\\hat{y}\\) 是预测值。\n",
    "- \\(x\\) 是自变量（输入）。\n",
    "- \\(\\theta_0\\) 是截距（intercept）。\n",
    "- \\(\\theta_1\\) 是斜率（slope）。\n",
    "\n",
    "## 模型的组成部分\n",
    "### 1. 初始化参数\n",
    "在模型的初始化过程中，我们通常将参数\\(\\theta_0\\)和\\(\\theta_1\\)初始化为零：\n"
   ]
  },
  {
   "cell_type": "code",
   "execution_count": 4,
   "metadata": {},
   "outputs": [],
   "source": [
    "def __init__(self):\n",
    "    \"\"\"Linear regression using a first order polynomial model for 2D data.\"\"\"\n",
    "    self._theta = np.zeros(2)  # 创建一个包含两个元素的NumPy数组，并将这两个元素都初始化为0\n",
    "    \"\"\"\n",
    "    在这个__init__方法中，我们使用np.zeros(2)来初始化一个包含两个元素的数组_theta，这两个元素分别代表线性回归模型的截距和斜率。这样，模型在开始时的预测将是一个水平线。\n",
    "    \"\"\""
   ]
  },
  {
   "cell_type": "markdown",
   "metadata": {},
   "source": [
    "### 2. 预测方法\n",
    "预测方法用于根据输入数据生成预测值。其实现如下："
   ]
  },
  {
   "cell_type": "code",
   "execution_count": 5,
   "metadata": {},
   "outputs": [],
   "source": [
    "def predict(self, X):\n",
    "    \"\"\"Predicts outputs y from some input X. For a first order polynomial, \n",
    "        this is the line \\hat y_i = \\theta_0 + \\theta_1 \\cdot x_i . Note that \n",
    "        the shape of the input X is (n, 1), and the shape of your prediction \n",
    "        should be (n, ).\"\"\"\n",
    "    return self._theta[0] + self._theta[1] * X.flatten()\n",
    "    \"\"\" X.flatten()将输入的形状从(n,1) 转换为(n,) 以便与参数_theta[1]相乘。最终返回的预测结果是一个一维数组形状为(n,)\"\"\"\n",
    "    \"\"\" 在(n,1)中有n行1列,在(n,)中,只有n行,没有列的维度,表示这是一个一维数组。\"\"\""
   ]
  },
  {
   "cell_type": "code",
   "execution_count": null,
   "metadata": {},
   "outputs": [],
   "source": [
    "a=np.array([[1,2],[3,4]])\n",
    "print(a)\n",
    "print(a.flatten())"
   ]
  },
  {
   "cell_type": "markdown",
   "metadata": {},
   "source": [
    "### 3. 评分方法\n",
    "评分方法用于计算模型的残差平方和，以评估模型的拟合效果。其实现如下："
   ]
  },
  {
   "cell_type": "code",
   "execution_count": null,
   "metadata": {},
   "outputs": [],
   "source": [
    "def score(self, X, y):\n",
    "    \"\"\"Returns the sum of squares residual for the given inputs and outputs.\"\"\"\n",
    "    \"\"\"方法用于计算给定输入X和输出y的残差平方和（Sum of Squares Residual, SSR）这是一个衡量模型预测与实际数据之间差异的指标 \"\"\"\n",
    "    predictions = self.predict(X)\n",
    "    residuals = y - predictions\n",
    "    sum_of_squares_residual = np.sum(residuals ** 2)\n",
    "    return sum_of_squares_residual"
   ]
  },
  {
   "cell_type": "markdown",
   "metadata": {},
   "source": [
    "### The Whole Code"
   ]
  },
  {
   "cell_type": "code",
   "execution_count": 4,
   "metadata": {},
   "outputs": [],
   "source": [
    "class SimpleLinearRegression:\n",
    "    def __init__(self):\n",
    "        self._theta = np.zeros(2)\n",
    "\n",
    "    def predict(self, X):\n",
    "        return self._theta[0] + self._theta[1] * X.flatten()\n",
    "\n",
    "    def fit(self, X, y):\n",
    "        \"\"\"This method finds the slope and intercept for your data.\"\"\"\n",
    "        assert isinstance(X, np.ndarray), \"X should be a numpy array\"\n",
    "        assert X.ndim == 2, \"X should be a 2D array\"\n",
    "        assert isinstance(y, np.ndarray), \"X should be a numpy array\"\n",
    "        assert y.ndim == 1, \"y should be a 1D array\"\n",
    "        assert X.shape[0] == y.shape[0], \"The number of datapoints in X and y must match\"\n",
    "        \"\"\"使用NumPy的polyfit函数计算线性回归的斜率和截距.\n",
    "        X.ravel()将X展平为一维数组，以便与y进行计算。1表示我们要拟合的是一阶多项式（线性）。 \"\"\"\n",
    "        slope, intercept = np.polyfit(X.ravel(), y, 1) \n",
    "        self._theta[0] = intercept\n",
    "        self._theta[1] = slope\n",
    "\n",
    "    def score(self, X, y): \n",
    "        \"\"\"Returns the sum of squares residual for the given inputs and outputs.\"\"\"\n",
    "        # TODO Your code here ... (and remember to remove the exception)\n",
    "        predictions = self.predict(X)\n",
    "        residuals = y - predictions\n",
    "        sum_of_squares_residual = np.sum(residuals ** 2)\n",
    "        return sum_of_squares_residual"
   ]
  },
  {
   "cell_type": "code",
   "execution_count": null,
   "metadata": {},
   "outputs": [],
   "source": [
    "# Example data\n",
    "X = np.vstack(np.linspace(0, 10, num=10))\n",
    "y = X.ravel()*2 + 3 + np.random.normal(0, 1, size=len(X))\n",
    "\n",
    "# Plot the data\n",
    "import matplotlib.pyplot as plt\n",
    "plt.figure(figsize=(8, 4))\n",
    "plt.subplot(1, 2, 1)\n",
    "plt.plot(X.ravel(), y, 'o', label=\"Data\")\n",
    "model = SimpleLinearRegression()\n",
    "plt.plot(X.ravel(), model.predict(X), '-', label=\"Untrained model\")\n",
    "plt.legend()\n",
    "plt.subplot(1, 2, 2)\n",
    "plt.plot(X.ravel(), y, 'o', label=\"Data\")\n",
    "model.fit(X, y)\n",
    "plt.plot(X.ravel(), model.predict(X), '-', label=\"Trained model\")\n",
    "plt.legend()\n",
    "plt.show()"
   ]
  },
  {
   "cell_type": "markdown",
   "metadata": {},
   "source": [
    "## 维度的定义\n",
    "- 列数可以与维度相关联，但在数组的上下文中，维度的定义更为严格。\n",
    "1. 维度（Dimension）：\n",
    "在数学和计算机科学中，维度通常指的是数据的独立方向或轴。\n",
    "一维数组（1D array）只有一个维度，例如 (𝑛,)，表示有 n 个元素。\n",
    "二维数组（2D array）有两个维度，例如 (𝑛,2)，表示有 n 行和 2 列。\n",
    "三维数组（3D array）有三个维度，例如 (𝑛,3,𝑚)，表示有 n 个 2D 数组，每个数组有 3 行和 m 列。\n",
    "\n",
    "2.列数与维度的关系：\n",
    "在二维数组中，列数可以被视为第二个维度，但这并不意味着列数本身就是维度。\n",
    "例如，形状为(n,3) 的数组是一个二维数组，表示有 n 行和 3 列，但它并不意味着这是三维数据。\n",
    "总结：\n",
    "形状为 (n,3) 的数组是一个二维数组，表示有 n 行和 3 列，而不是三维数据。\n",
    "维度的数量是由数组的维度数决定的，而不是由列数决定的。"
   ]
  },
  {
   "cell_type": "code",
   "execution_count": null,
   "metadata": {},
   "outputs": [],
   "source": [
    "#assert\n",
    "b = 5\n",
    "assert b < 0,\"x must be positive\""
   ]
  },
  {
   "cell_type": "code",
   "execution_count": null,
   "metadata": {},
   "outputs": [],
   "source": [
    "# isistance()\n",
    "x = 5\n",
    "print(isinstance(x, int))\n",
    "print(isinstance(x, str))\n",
    "print(isinstance(x,list))"
   ]
  },
  {
   "cell_type": "code",
   "execution_count": 5,
   "metadata": {},
   "outputs": [],
   "source": [
    "### Output\n",
    "# Example data\n",
    "\"\"\"\n",
    "np.linspace 是NumPy库中的一个函数，用于生成在指定范围内均匀分布的数字。\n",
    "np.vstack 是 NumPy 中的一个函数，用于将多个数组按垂直方向（行）堆叠在一起。\n",
    "在这个例子中np.linspace 生成的数组是一个一维数组（形状为 (10,)），而 np.vstack 会将其转换为一个二维数组（形状为 (1, 10)），即将这个一维数组作为一行放入一个新的二维数组中.\n",
    "\"\"\"\n",
    "X = np.vstack(np.linspace(0, 10, num=10)) \n",
    "\"\"\" \n",
    "生成一个目标变量 y，它与特征变量 X 之间存在线性关系（y = 2x + 3），并且在此基础上添加了来自正态分布的随机噪声。\n",
    "这样的数据生成方式在模拟线性回归问题时非常常见，能够帮助我们测试和验证线性回归模型的效果。\n",
    "\"\"\"\n",
    "y = X.ravel()*2 + 3 + np.random.normal(0, 1, size=len(X))"
   ]
  },
  {
   "cell_type": "code",
   "execution_count": 6,
   "metadata": {},
   "outputs": [
    {
     "name": "stdout",
     "output_type": "stream",
     "text": [
      "[[ 0.        ]\n",
      " [ 1.11111111]\n",
      " [ 2.22222222]\n",
      " [ 3.33333333]\n",
      " [ 4.44444444]\n",
      " [ 5.55555556]\n",
      " [ 6.66666667]\n",
      " [ 7.77777778]\n",
      " [ 8.88888889]\n",
      " [10.        ]]\n"
     ]
    }
   ],
   "source": [
    "print(X)"
   ]
  },
  {
   "cell_type": "code",
   "execution_count": 7,
   "metadata": {},
   "outputs": [
    {
     "name": "stdout",
     "output_type": "stream",
     "text": [
      "[ 5.65129728  4.5019942   6.42919857  9.88585343 12.04315042 13.50331655\n",
      " 16.71283817 18.61898516 21.67777726 23.53216425]\n"
     ]
    }
   ],
   "source": [
    "print(y)"
   ]
  },
  {
   "cell_type": "code",
   "execution_count": 8,
   "metadata": {},
   "outputs": [
    {
     "data": {
      "image/png": "[encoded data removed]",
      "text/plain": [
       "<Figure size 800x400 with 2 Axes>"
      ]
     },
     "metadata": {},
     "output_type": "display_data"
    }
   ],
   "source": [
    "import matplotlib.pyplot as plt\n",
    "plt.figure(figsize=(8, 4))\n",
    "plt.subplot(1, 2, 1)\n",
    "plt.plot(X.ravel(), y, 'o', label=\"Data\")\n",
    "model = SimpleLinearRegression()\n",
    "plt.plot(X.ravel(), model.predict(X), '-', label=\"Untrained model\")\n",
    "plt.legend()\n",
    "plt.subplot(1, 2, 2)\n",
    "plt.plot(X.ravel(), y, 'o', label=\"Data\")\n",
    "model.fit(X, y)\n",
    "plt.plot(X.ravel(), model.predict(X), '-', label=\"Trained model\")\n",
    "plt.legend()\n",
    "plt.show()"
   ]
  },
  {
   "cell_type": "code",
   "execution_count": null,
   "metadata": {},
   "outputs": [],
   "source": []
  }
 ],
 "metadata": {
  "kernelspec": {
   "display_name": "Python 3",
   "language": "python",
   "name": "python3"
  },
  "language_info": {
   "codemirror_mode": {
    "name": "ipython",
    "version": 3
   },
   "file_extension": ".py",
   "mimetype": "text/x-python",
   "name": "python",
   "nbconvert_exporter": "python",
   "pygments_lexer": "ipython3",
   "version": "3.8.10"
  }
 },
 "nbformat": 4,
 "nbformat_minor": 2
}
